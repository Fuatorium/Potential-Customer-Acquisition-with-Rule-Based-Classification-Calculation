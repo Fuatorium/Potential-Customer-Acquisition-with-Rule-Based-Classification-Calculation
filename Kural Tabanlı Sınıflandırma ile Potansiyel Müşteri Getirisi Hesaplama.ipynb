{
 "cells": [
  {
   "cell_type": "code",
   "execution_count": 1,
   "id": "c80da94b",
   "metadata": {},
   "outputs": [],
   "source": [
    "import pandas as pd\n",
    "df = pd.read_csv(\"persona.csv\")"
   ]
  },
  {
   "cell_type": "code",
   "execution_count": 2,
   "id": "3dd9f749",
   "metadata": {},
   "outputs": [],
   "source": [
    "agg_df = df.groupby([\"COUNTRY\", \"SOURCE\", \"SEX\", \"AGE\"]).agg({\"PRICE\": \"sum\"})"
   ]
  },
  {
   "cell_type": "code",
   "execution_count": 3,
   "id": "791f7266",
   "metadata": {},
   "outputs": [],
   "source": [
    "agg_df = agg_df.sort_values(\"PRICE\", ascending=False).reset_index()"
   ]
  },
  {
   "cell_type": "code",
   "execution_count": 4,
   "id": "76409d0f",
   "metadata": {},
   "outputs": [],
   "source": [
    "agg_df[\"AGE_CAT\"] = pd.cut(agg_df[\"AGE\"], [0, 18, 25, 35, 45, 67], labels=['0_18', '19_25', '26_35', '36-45', '46_67'])"
   ]
  },
  {
   "cell_type": "code",
   "execution_count": 5,
   "id": "70a3af07",
   "metadata": {},
   "outputs": [],
   "source": [
    "agg_df[\"customers_level_based\"] = agg_df[\"COUNTRY\"].str.upper() + \"_\" + agg_df[\"SOURCE\"].str.upper() + \"_\" + agg_df[\"SEX\"].str.upper() + \"_\" + agg_df[\"AGE_CAT\"].str.upper()"
   ]
  },
  {
   "cell_type": "code",
   "execution_count": 6,
   "id": "406ec11d",
   "metadata": {},
   "outputs": [],
   "source": [
    "agg_df = agg_df.groupby(\"customers_level_based\").agg({\"PRICE\": \"mean\"}).reset_index()\n",
    "agg_df[\"SEGMENT\"] = pd.qcut(agg_df[\"PRICE\"], 4, labels=[\"D\", \"C\", \"B\", \"A\"])"
   ]
  },
  {
   "cell_type": "code",
   "execution_count": 11,
   "id": "462975e5",
   "metadata": {},
   "outputs": [
    {
     "name": "stdout",
     "output_type": "stream",
     "text": [
      "Kullanıcının segmenti: B\n",
      "Potansiyel getiri: 413.75\n"
     ]
    }
   ],
   "source": [
    "user_1 = \"TUR_ANDROID_FEMALE_26_35\"\n",
    "filtered_df = agg_df[agg_df[\"customers_level_based\"] == user_1]\n",
    "\n",
    "if not filtered_df.empty:\n",
    "    segment = filtered_df[\"SEGMENT\"].values[0]\n",
    "    average_revenue = filtered_df[\"PRICE\"].values[0]\n",
    "    print(\"Kullanıcının segmenti:\", segment)\n",
    "    print(\"Potansiyel getiri:\", average_revenue)\n",
    "else:\n",
    "    print(\"Kullanıcı bulunamadı.\")"
   ]
  },
  {
   "cell_type": "code",
   "execution_count": 10,
   "id": "350d7e24",
   "metadata": {},
   "outputs": [
    {
     "name": "stdout",
     "output_type": "stream",
     "text": [
      "Kullanıcının segmenti: A\n",
      "Potansiyel getiri: 1566.5\n"
     ]
    }
   ],
   "source": [
    "user_2 = \"USA_IOS_MALE_0_18\"\n",
    "filtered_df_2 = agg_df[agg_df[\"customers_level_based\"] == user_2]\n",
    "\n",
    "if not filtered_df_2.empty:\n",
    "    segment_2 = filtered_df_2[\"SEGMENT\"].values[0]\n",
    "    average_revenue_2 = filtered_df_2[\"PRICE\"].values[0]\n",
    "    print(\"Kullanıcının segmenti:\", segment_2)\n",
    "    print(\"Potansiyel getiri:\", average_revenue_2)\n",
    "else:\n",
    "    print(\"Kullanıcı bulunamadı.\")"
   ]
  },
  {
   "cell_type": "code",
   "execution_count": null,
   "id": "ae965d9d",
   "metadata": {},
   "outputs": [],
   "source": []
  }
 ],
 "metadata": {
  "kernelspec": {
   "display_name": "Python 3 (ipykernel)",
   "language": "python",
   "name": "python3"
  },
  "language_info": {
   "codemirror_mode": {
    "name": "ipython",
    "version": 3
   },
   "file_extension": ".py",
   "mimetype": "text/x-python",
   "name": "python",
   "nbconvert_exporter": "python",
   "pygments_lexer": "ipython3",
   "version": "3.10.9"
  }
 },
 "nbformat": 4,
 "nbformat_minor": 5
}
